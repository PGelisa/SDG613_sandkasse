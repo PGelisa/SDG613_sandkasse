{
 "cells": [
  {
   "cell_type": "markdown",
   "metadata": {},
   "source": [
    "# Two-box model\n",
    "\n",
    "Twobox-modellen er en konseptuell modell for å illustrere betydningen av de ulike strålingspådrivene (ΔQ), tilbakekoblingseffektene (λ) and varmeopptaket i havet (γ). Modellen er forklart i vedlegget \"Climate Sensitivity\", og vi anbefaler dere å se i dette parallelt med den første modellkjøringen dere skal gjøre her.\n",
    "\n",
    "I denne oppgaven skal dere ikke gjøre noen endringer i de ulike parameterne, dere skal nå bli kjent med modellen og ikke minst bli kjent med litt Python-kode.\n",
    "\n",
    "## Jupyter notebook og Python\n",
    "\n",
    "Klimamodellen er skrevet i programmeringsspråket Python, og er skrevet som en Jupyter notebook (som kan både åpnes lokalt på egen datamaskin, eller via online editorer som eksempelvis Cocalc. En notebook gjør det mulig å flette koden inn i tekst.\n",
    "\n",
    "Når vi skal gjøre beregninger i klimamodellen, så trenger vi en del biblioteker, hvor vi finner ferdigprogrammerte matematiske funksjoner. Vi importerer `numpy` (https://numpy.org/) for matematiske funksjoner, `matplotlib.pyplot` (https://matplotlib.org/2.0.2/api/pyplot_api.html) for verktøy til å lage grafer og andre visualiseringer. Fra biblioteket `scipy` (https://docs.scipy.org/doc/scipy/reference/interpolate.html) vi bruke en funksjon for interpolasjon. \n",
    "\n",
    "### Kjøre kodebokser\n",
    "\n",
    "Dere kjører koden under ved å trykke på Run-knappen når du er i kodeboksen. Det er viktig at du kjører alle kodebokser når de kommer. Noen kodebokser gir en output, som kommer like under kodeboksen, mens andre ikke viser noe. I kodeboksen under blir bibliotekene importert. Her er det også tatt med en `print`-kommando som skriver en output for å bekrefte at koden er kjørt. Senere vil vi ikke bruke disse."
   ]
  },
  {
   "cell_type": "code",
   "execution_count": 1,
   "metadata": {},
   "outputs": [
    {
     "name": "stdout",
     "output_type": "stream",
     "text": [
      "Da er bibliotekene du trenger importert, og er klare til bruk\n"
     ]
    }
   ],
   "source": [
    "import numpy as np\n",
    "import matplotlib.pyplot as plt\n",
    "from scipy import interpolate\n",
    "print(\"Da er bibliotekene du trenger importert, og er klare til bruk\")"
   ]
  },
  {
   "cell_type": "markdown",
   "metadata": {},
   "source": [
    "## Hva representerer de ulike tilbakekoblingseffektene for klima?\n",
    "Vi kan dele følsomheten som netto stråling ved toppen av atmosfæren ($R_{TOA}$) har på endringen i overflatetemperaturen i to:\n",
    "* en direkte respons i netto stråling ved TOA fra en endring i overflatetemperaturen hvis alle andre klimaparametere er konstante\n",
    "* en indirekte respons der endringer i temperaturen gir endringer i andre klimaparametere ($\\chi_i$) som igjen gir en temperaturendring (tilbakekoblingseffekter - positive og negative)\n",
    "\n",
    "Hvis vi ser vekk fra at klimaparameterne påvirker hverandre, får vi:\n",
    "\n",
    "$$\\dfrac{\\delta R_{TOA}}{\\delta T_S}=\\left[\\dfrac{\\delta R_{TOA}}{\\delta T_s}|_{\\chi_i=0}\\right]+ \\sum_{i=1}^{N} \\dfrac{\\delta R_{TOA}}{\\delta \\chi_i}\\dfrac{\\delta \\chi_i}{\\delta T_s}  $$\n",
    "\n",
    "Dette uttrykket gir oss at den totale endringen i overflatetemperaturen er:\n",
    "* direkte endring i temperatur grunnet endringer i strålingspådriv (første ledd på høyre side)\n",
    "* tilbakekoblingseffekter som påvirker $\\Delta T_S$ (andre ledd på høyre siden). \n",
    "\n",
    "Dette gir oss en definisjon av de ulike feedback-faktorene $\\lambda \\equiv \\tfrac{\\delta R_{TOA}}{\\delta T_S}$ som videre gir \n",
    "\n",
    "$$\\lambda = -\\left[\\tfrac{\\delta R_{TOA}}{\\delta T_s}|_{\\chi_i=0}\\right]+ \\sum_{i=1}^{N} \\dfrac{\\delta R_{TOA}}{\\delta \\chi_i}\\dfrac{\\delta \\chi_i}{\\delta T_s}$$\n",
    "\n",
    "Tilbakekoblingseffektene avhenger egentlig av en rekke parametere. Den direkte endringen i strålingsbalansen via temperaturendring og Stefan-Boltzmanns lov (https://snl.no/Stefan-Boltzmanns_lov) er egentlig ikke en tilbakekoblingseffekt, men vi behandler det som en parameter på samme måte som de andre tilbakekoblingseffektene, og kaller den for $\\lambda_{Planck}$. Tilsvarende får vi parametere for det som skyldes vanndamp, skyer, albedo osv. \n",
    "\n",
    "$$\\lambda = \\lambda_{Planck}+\\lambda_{water}+\\lambda_{clouds}+\\lambda_{albedo}+...$$\n"
   ]
  },
  {
   "cell_type": "markdown",
   "metadata": {},
   "source": [
    "## Tilbakekoblingseffekter $\\lambda$\n",
    "I henhold til CMIP5 (https://www.wcrp-climate.org/wgcm-cmip/wgcm-cmip5) så vil verdiene for de ulike tilbakekoblingsparameterne ha verdier innen følgende intervall.\n",
    "Alle verdiene er CMIP5-verdier gitt i $\\tfrac{W}{m^2 K}$\n",
    "\n",
    "| Tilbakekoblingseffekt                              |      Verdier |\n",
    "|:---------------------------------------------------|:-------------|\n",
    "| Planck (direkte endring grunnet endret temperatur) | [-3.3, -3.1] |\n",
    "| Lapse rate (vertikal temperaturgradient)           | [-1.2, -0.5] |\n",
    "| Vanndamp                                           |   [1.5, 2.2] |\n",
    "| Skyer                                              |   [0.1, 1.2] |\n",
    "| Albedo (overflaten)                                |   [0.1, 0.4] |\n",
    "| Andre faktorer                                     |              |\n",
    "\n",
    "I denne testkjøringen av modellen velger vi følgende verdier:"
   ]
  },
  {
   "cell_type": "code",
   "execution_count": 2,
   "metadata": {},
   "outputs": [],
   "source": [
    "lambda_planck=-3.2    \n",
    "lambda_lapse=-0.8     \n",
    "lambda_water=1.8      \n",
    "lambda_cloud=0.70     \n",
    "lambda_albedo=0.30    \n",
    "lambda_other=0.0"
   ]
  },
  {
   "cell_type": "markdown",
   "metadata": {},
   "source": [
    "#### Har du husket å kjøre kodeboksen?\n",
    "Nå er det viktig at du kjører kodeboksen over, slik at verdiene også lagres i minnet på Jupyter."
   ]
  },
  {
   "cell_type": "code",
   "execution_count": 3,
   "metadata": {},
   "outputs": [],
   "source": [
    "lambda_sum=sum([lambda_planck,\n",
    "    lambda_lapse,\n",
    "    lambda_water,\n",
    "    lambda_cloud,\n",
    "    lambda_albedo,\n",
    "    lambda_other]) # vi definerer den totale tilbakekoblingen som summen av de ulike parameterne"
   ]
  },
  {
   "cell_type": "markdown",
   "metadata": {},
   "source": [
    "# Historiske klimadata\n",
    "\n",
    "Vi starter med å se på historiske data, funnet i FNs femte klimarapport ( https://www.ipcc.ch/site/assets/uploads/2017/09/WG1AR5_AnnexII_FINAL.pdf side 1404). Dataene er samlet i filen `./FORCING_DATA/IPCC_AR5_historical_Forcings.txt` , der vi finner verdier for effektive strålingspådriv fra ulike faktorer. Filen inneholder årlige verdier fra 1750 til 2011 for strålingspådriv som skyldes CO<sub>2</sub>, andre drivhusgasser, troposfærisk og stratosfærisk ozon, aerosoler, arealbruksendringer (LUC), vanndamp i stratosfæren, svart karbon på snø, kondensstriper, solflekkaktivitet og vulkansk aktivitet. I vår forenklete klimamodell ser vi på drivhusgasser samlet\n",
    "\n",
    "I kodeboksen under skal vi lese inn verdiene fra filen, sånn at vi kan plotte dem med Python."
   ]
  },
  {
   "cell_type": "code",
   "execution_count": 4,
   "metadata": {},
   "outputs": [
    {
     "name": "stdout",
     "output_type": "stream",
     "text": [
      "TwoBox_read_IPCC_AR5_historical_forcing: reading IPCC AR5 forcing data 1750-2011\n",
      "TwoBox_read_IPCC_AR5_historical_forcing: Finished\n"
     ]
    }
   ],
   "source": [
    "print('TwoBox_read_IPCC_AR5_historical_forcing: reading IPCC AR5 forcing data 1750-2011')\n",
    "year,co2_data,ghg_other_data,o3_tropos_data,o3_stratos_data,total_aero_data,landuse_data,h2o_stratos_data,bc_snow_data,contrails,solar_data,volc_data=(np.array(()),)*12\n",
    "with open('./FORCING_DATA/IPCC_AR5_historical_Forcings.txt', 'r') as f:\n",
    "    for i,line in enumerate(f):\n",
    "        if i > 0:       # skip header (first line)\n",
    "            values=line.strip('\\n').split()\n",
    "            if not values:\n",
    "                continue   # skip last row in file if it is empty\n",
    "            year=np.append(year, int(values[0]))\n",
    "            co2_data=np.append(co2_data, float(values[1]))\n",
    "            ghg_other_data=np.append(ghg_other_data, float(values[2]))\n",
    "            o3_tropos_data=np.append(o3_tropos_data, float(values[3]))\n",
    "            o3_stratos_data=np.append(o3_stratos_data, float(values[4]))\n",
    "            total_aero_data=np.append(total_aero_data, float(values[5]))\n",
    "            landuse_data=np.append(landuse_data, float(values[6]))\n",
    "            h2o_stratos_data=np.append(h2o_stratos_data, float(values[7]))\n",
    "            bc_snow_data=np.append(bc_snow_data, float(values[8]))\n",
    "            contrails=np.append(contrails, float(values[9]))\n",
    "            solar_data=np.append(solar_data, float(values[10]))\n",
    "            volc_data=np.append(volc_data, float(values[11]))\n",
    "print('TwoBox_read_IPCC_AR5_historical_forcing: Finished')"
   ]
  },
  {
   "cell_type": "markdown",
   "metadata": {},
   "source": [
    "### Fastsatte konstanter i modellen\n",
    "\n",
    "Noen av konstantene under er satt for å forenkle modellen. Noen er tilnærmete verdier basert på empiri, mens andre er beregnet ut fra andre konstanter. Disse skal dere ikke endre. \n",
    "\n",
    "Verdiene det her er snakk om er gjennomsnittlig tykkelse av det øverste laget i havet, samt gjennomsnittsdypet av verdenshavene. I tillegg er det noen konstanter som vannets tetthet, spesifikk varmekapasitet til vann, og hvor stor andel av jorden som er dekket av hav. Til slutt beregnes den effektive varmekapasiteten for vekselvirkningen mellom atmosfære og hav."
   ]
  },
  {
   "cell_type": "code",
   "execution_count": 5,
   "metadata": {},
   "outputs": [],
   "source": [
    "# --------------\n",
    "# ocean depths [m]\n",
    "# --------------\n",
    "# mixed layer thickness [m]\n",
    "H_MIX= 100\n",
    "# rest of the ocean [m]     \n",
    "H_DEEP=3700-H_MIX    \n",
    "\n",
    "# --------------\n",
    "# Some constants\n",
    "# -------------\n",
    "#density of water (kg m-3)\n",
    "RHO = 1000\n",
    "#specific heat capacity of water (J kg-1 K-1)\n",
    "CPO = 4200       \n",
    "# fraction of earth that is ocean\n",
    "f_o=0.7\n",
    "\n",
    "# --------------\n",
    "# Some derived constants\n",
    "# -------------\n",
    "# effective heat capacity of the atmosphere-ocean system [J m-2 K-1]\n",
    "CEFF_M=f_o*H_MIX*CPO*RHO\n",
    "CEFF_D=f_o*H_DEEP*CPO*RHO"
   ]
  },
  {
   "cell_type": "markdown",
   "metadata": {},
   "source": [
    "### Variabler\n",
    "\n",
    "Nå har vi fått definert en del variabler som arrays, som vi kan jobbe videre med. I denne første modellen ønsker vi bare å se på drivhusgassene, så det er bare de vi jobber videre med. \n",
    "\n",
    "Siden modellen skal gjøres mer generell, så vil vi også endre noen av variabelnavnene, sånn at vi kan lage egne funksjoner senere. "
   ]
  },
  {
   "cell_type": "code",
   "execution_count": 6,
   "metadata": {},
   "outputs": [],
   "source": [
    "total_year=year\n",
    "total_forcing=co2_data+ghg_other_data\n",
    "# Vi ønsker også å lage en 'dictionary' med informasjon til plotting senere\n",
    "# Først lager vi en array med bare verdien 0 for alle årstallene\n",
    "radiative_forcing=np.zeros(len(total_year))\n",
    "forcings_dict={}\n",
    "\n",
    "radiative_forcing=radiative_forcing+co2_data\n",
    "forcings_dict['CO2']=co2_data\n",
    "radiative_forcing=radiative_forcing+ghg_other_data\n",
    "forcings_dict['OTHER GREENHOUSE GASES']=ghg_other_data"
   ]
  },
  {
   "cell_type": "markdown",
   "metadata": {},
   "source": [
    "I denne første enkle versjonen av klimamodellen ser vi ikke på varmeopptak i havet.\n",
    "\n",
    "### Tidsstep\n",
    "Når man kjører numeriske modeller, så vil det kunne oppstå feil i resultatene hvis man har for lange tidsstep i modellkjøringene. Selv om de dataene vi har som input til modellen er årlige data, så må vi kjøre modellen med langt kortere tidsskritt for å unngå for store feil i beregningene, og vi må ha sekunder som tidsskritt i stedet. Husk at $\\dfrac{d}{dt}$ er gitt i sekunder.\n",
    "\n",
    "Vi bruker også en lineær interpolering mellom de ulike datapunktene. "
   ]
  },
  {
   "cell_type": "code",
   "execution_count": 7,
   "metadata": {},
   "outputs": [],
   "source": [
    "model_year=total_year\n",
    "# -------------\n",
    "# Timestep etc.\n",
    "# --------------\n",
    "\n",
    "# timestep in seconds\n",
    "Dt=365*24*60*60\n",
    "\n",
    "# interpolate forcing to chosen timestep\n",
    "model_year_interp=np.arange(model_year[0], model_year[-1]+1, 1)\n",
    "radiative_forcing_interp_fun=interpolate.interp1d(model_year, radiative_forcing, 'linear')\n",
    "radiative_forcing_interp=radiative_forcing_interp_fun(model_year_interp)\n",
    "\n",
    "# Number of timesteps to run model for\n",
    "Nt=len(model_year_interp)\n"
   ]
  },
  {
   "cell_type": "code",
   "execution_count": 8,
   "metadata": {},
   "outputs": [],
   "source": [
    "Ts_all=np.zeros(Nt)\n",
    "Ts_init=0\n",
    "Ts=np.array(()) # initialize arrays where individual time series will be stored\n",
    "for t in range(Nt):\n",
    "    # --------------\n",
    "    # Temperature tendencies [K/s]\n",
    "    #     dTs/dt, dTs_dt\n",
    "    # --------------\n",
    "    \n",
    "    if t==0:\n",
    "        dTs_dt=(radiative_forcing_interp[t]+(lambda_sum*Ts_init))/CEFF_M\n",
    "    else:\n",
    "        dTs_dt=(radiative_forcing_interp[t]+(lambda_sum*Ts[t-1]))/CEFF_M\n",
    "    \n",
    "    # ----------------------------------------------------------------------\n",
    "    # Step temperature forward in time (by \"Euler forward\"\n",
    "    # or \"forward-in-time\" method)\n",
    "    #----------------------------------------------------------------------\n",
    "    if t==0:\n",
    "        Ts=np.append(Ts, Ts_init+dTs_dt*Dt)\n",
    "    else:\n",
    "        Ts=np.append(Ts, Ts[t-1]+dTs_dt*Dt)\n",
    "\n",
    "Ts_all = Ts\n"
   ]
  },
  {
   "cell_type": "code",
   "execution_count": 9,
   "metadata": {},
   "outputs": [],
   "source": [
    "#----------------------------------------------------------------------\n",
    "# Plot data\n",
    "#---------------------------------------------------------------------\n",
    "\n",
    "# ----------------\n",
    "# Select reference period\n",
    "# Temp anomalies are in mean 0 over the reference period\n",
    "# ------------------\n",
    "\n",
    "# reference period for making anomalies \n",
    "ref_syr=1961\n",
    "ref_eyr=1990\n",
    "\n",
    "# make model  anomalies  relative to reference period\n",
    "indx=np.logical_and(model_year>ref_syr, model_year<=ref_eyr)\n",
    "Ts_anom=np.zeros(Nt)\n",
    "Ts_anom=Ts_all-np.mean(Ts_all[indx])"
   ]
  },
  {
   "cell_type": "code",
   "execution_count": 12,
   "metadata": {},
   "outputs": [
    {
     "data": {
      "text/plain": [
       "<matplotlib.legend.Legend at 0x7fbb3f033cd0>"
      ]
     },
     "execution_count": 12,
     "metadata": {},
     "output_type": "execute_result"
    },
    {
     "data": {
      "image/png": "[encoded data removed]",
      "text/plain": [
       "<Figure size 432x288 with 1 Axes>"
      ]
     },
     "metadata": {
      "needs_background": "light"
     },
     "output_type": "display_data"
    }
   ],
   "source": [
    "# -------------\n",
    "# plot timeseries of forcings\n",
    "# -------------------\n",
    "\n",
    "# years to plot\n",
    "plot_syr=total_year[0]\n",
    "plot_eyr=total_year[-1]\n",
    "\n",
    "# Data to plot        \n",
    "plot_x=np.arange(plot_syr, plot_eyr+1)\n",
    "plot_data=np.nan*np.ones((int(plot_eyr+1-plot_syr)))\n",
    "\n",
    "# select times to plot\n",
    "plot_data[np.isin(plot_x, model_year)]=radiative_forcing[np.isin(model_year, plot_x)]\n",
    "\n",
    "# axis limits\n",
    "xaxes_limits=((plot_syr, plot_eyr+1))\n",
    "yaxes_limits=[]\n",
    "# legend\n",
    "legend_text='TOTAL FORCING'\n",
    "\n",
    "y_label='$W/m^2$'\n",
    "x_label='Years'\n",
    "figure_text='Radiative forcing. '\n",
    "\n",
    "ps=[]\n",
    "Figure1=plt.figure(1)\n",
    "x=plot_x\n",
    "y=plot_data\n",
    "\n",
    "p, =plt.plot(x,y, label=legend_text)\n",
    "\n",
    "plt.xlabel(x_label)\n",
    "plt.ylabel(y_label)\n",
    "plt.title(figure_text)\n",
    "\n",
    "plt.xlim(xaxes_limits)\n",
    "if yaxes_limits:\n",
    "    plt.ylim(yaxes_limits)\n",
    "\n",
    "plt.axhline(y=0, linewidth=1, color=\"black\")\n",
    "ps.append(p)\n",
    "for forcing in forcings_dict.keys():\n",
    "    plot_data=forcings_dict[forcing]\n",
    "    y=plot_data\n",
    "    legend_text=forcing\n",
    "    p2,=plt.plot(x,y, label=legend_text)\n",
    "    ps.append(p2)\n",
    "plt.legend(handles=ps, bbox_to_anchor=(1.05, 1), loc='upper left')\n"
   ]
  },
  {
   "cell_type": "code",
   "execution_count": 13,
   "metadata": {},
   "outputs": [
    {
     "data": {
      "text/plain": [
       "<matplotlib.legend.Legend at 0x7fbb3f20c730>"
      ]
     },
     "execution_count": 13,
     "metadata": {},
     "output_type": "execute_result"
    },
    {
     "data": {
      "image/png": "[encoded data removed]",
      "text/plain": [
       "<Figure size 432x288 with 1 Axes>"
      ]
     },
     "metadata": {
      "needs_background": "light"
     },
     "output_type": "display_data"
    }
   ],
   "source": [
    "ps=[]\n",
    "Figure2=plt.figure(2)\n",
    "# Data to plot        \n",
    "plot_x=np.arange(plot_syr, plot_eyr+1)\n",
    "plot_data=Ts_anom\n",
    "\n",
    "# select times to plot\n",
    "plot_data[np.isin(plot_x, model_year)]=Ts_anom[np.isin(model_year, plot_x)]\n",
    "        \n",
    "yaxes_limits=((np.min(plot_data)-.1, np.max(plot_data)+.1))\n",
    "y_label='Temperature anomalies [$^\\circ$C]'\n",
    "figure_text=f'Temperature. Reference period {ref_syr}-{ref_eyr} ' \n",
    "legend_text='Temperature anomaly'\n",
    "x=plot_x\n",
    "y=plot_data\n",
    "p, =plt.plot(x,y, label=legend_text)\n",
    "\n",
    "plt.xlabel(x_label)\n",
    "plt.ylabel(y_label)\n",
    "plt.title(figure_text)\n",
    "\n",
    "plt.xlim(xaxes_limits)\n",
    "if yaxes_limits:\n",
    "    plt.ylim(yaxes_limits)\n",
    "\n",
    "plt.axhline(y=0, linewidth=1, color=\"black\")\n",
    "ps.append(p)\n",
    "plt.legend(handles=ps,  bbox_to_anchor=(1.05, 1), loc='upper left')\n",
    "\n"
   ]
  },
  {
   "cell_type": "code",
   "execution_count": null,
   "metadata": {},
   "outputs": [],
   "source": []
  },
  {
   "cell_type": "code",
   "execution_count": null,
   "metadata": {},
   "outputs": [],
   "source": []
  }
 ],
 "metadata": {
  "kernelspec": {
   "display_name": "Python 3",
   "language": "python",
   "name": "python3"
  },
  "language_info": {
   "codemirror_mode": {
    "name": "ipython",
    "version": 3
   },
   "file_extension": ".py",
   "mimetype": "text/x-python",
   "name": "python",
   "nbconvert_exporter": "python",
   "pygments_lexer": "ipython3",
   "version": "3.8.3"
  }
 },
 "nbformat": 4,
 "nbformat_minor": 4
}
